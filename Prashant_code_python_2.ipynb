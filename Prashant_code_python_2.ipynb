{
 "cells": [
  {
   "cell_type": "markdown",
   "id": "d211238c",
   "metadata": {},
   "source": [
    "# Assignment 5"
   ]
  },
  {
   "cell_type": "markdown",
   "id": "99c3e71f",
   "metadata": {},
   "source": [
    "##### 1. Write a Python program to print numbers from 1 to 10 using a for loop."
   ]
  },
  {
   "cell_type": "code",
   "execution_count": 2,
   "id": "aae39baa",
   "metadata": {},
   "outputs": [
    {
     "name": "stdout",
     "output_type": "stream",
     "text": [
      "0 1 2 3 4 5 6 7 8 9 10 "
     ]
    }
   ],
   "source": [
    "for i in range(11):\n",
    "    print(i,end = \" \")"
   ]
  },
  {
   "cell_type": "markdown",
   "id": "edf15b31",
   "metadata": {},
   "source": [
    "##### 2. Explain the difference between a for loop and a while loop in Python.\n"
   ]
  },
  {
   "cell_type": "raw",
   "id": "1400c910",
   "metadata": {},
   "source": [
    "Loop -- it is a used as for variable in iterable  , if the function will iterate according to the conditon\n",
    "        loop  is executed each items of the iterable \n",
    "        \n",
    "while loop\n",
    "            In while loop the items has unknown iteration  until the condition will be True \n",
    "            after the condition false loop become break"
   ]
  },
  {
   "cell_type": "markdown",
   "id": "c2c792fb",
   "metadata": {},
   "source": [
    "##### 3. Write a Python program to calculate the sum of all numbers from 1 to 100 using a for loop."
   ]
  },
  {
   "cell_type": "code",
   "execution_count": 2,
   "id": "f7a12a8e",
   "metadata": {},
   "outputs": [
    {
     "name": "stdout",
     "output_type": "stream",
     "text": [
      "5050\n"
     ]
    }
   ],
   "source": [
    "sum = 0\n",
    "for i in range(101):\n",
    "    sum = sum + i\n",
    "print(sum)"
   ]
  },
  {
   "cell_type": "markdown",
   "id": "90c259df",
   "metadata": {},
   "source": [
    "##### 4. How do you iterate through a list using a for loop in Python?\n"
   ]
  },
  {
   "cell_type": "code",
   "execution_count": 4,
   "id": "fe883242",
   "metadata": {},
   "outputs": [
    {
     "name": "stdout",
     "output_type": "stream",
     "text": [
      "23\n",
      "46\n",
      "99\n",
      "241\n",
      "string\n",
      "iterate \n",
      "the\n",
      "list\n"
     ]
    }
   ],
   "source": [
    "l1 = [23,46,99,241,\"string\",\"iterate \",\"the\",\"list\"]\n",
    "for i in l1:\n",
    "    print(i)"
   ]
  },
  {
   "cell_type": "markdown",
   "id": "21d73956",
   "metadata": {},
   "source": [
    "##### 5. Write a Python program to find the product of all elements in a list using a for loop.\n"
   ]
  },
  {
   "cell_type": "code",
   "execution_count": 91,
   "id": "ca2f6d61",
   "metadata": {},
   "outputs": [
    {
     "name": "stdout",
     "output_type": "stream",
     "text": [
      "-5420.3821056\n"
     ]
    }
   ],
   "source": [
    "my_list = [4,3,0.3,7.2,2,1.23,2.1,-2.2,8,-1,-2.3]\n",
    "product = 1\n",
    "for num in my_list:\n",
    "    product = product*num\n",
    "print(product)"
   ]
  },
  {
   "cell_type": "markdown",
   "id": "a1db9e69",
   "metadata": {},
   "source": [
    "##### 6. Create a Python program that prints all even numbers from 1 to 20 using a for loop."
   ]
  },
  {
   "cell_type": "code",
   "execution_count": 2,
   "id": "934e9f75",
   "metadata": {},
   "outputs": [
    {
     "name": "stdout",
     "output_type": "stream",
     "text": [
      "0 2 4 6 8 10 12 14 16 18 20 "
     ]
    }
   ],
   "source": [
    "for num in range(21):\n",
    "    if num%2 != 0:\n",
    "        continue\n",
    "    else:\n",
    "        print(num,end = ' ')\n",
    "        "
   ]
  },
  {
   "cell_type": "markdown",
   "id": "61fb6c6b",
   "metadata": {},
   "source": [
    "##### 7. Write a Python program that calculates the factorial of a number using a for loop.\n"
   ]
  },
  {
   "cell_type": "code",
   "execution_count": 3,
   "id": "78cb7265",
   "metadata": {},
   "outputs": [],
   "source": [
    "def factorial(fa):\n",
    "    while fa>0:\n",
    "        if fa<=1:\n",
    "            return 1\n",
    "        return fa*factorial(fa-1)\n",
    "factorial(-6)"
   ]
  },
  {
   "cell_type": "markdown",
   "id": "48440fb6",
   "metadata": {},
   "source": [
    "##### 8. How can you iterate through the characters of a string using a for loop in Python?"
   ]
  },
  {
   "cell_type": "code",
   "execution_count": 67,
   "id": "e20cac9e",
   "metadata": {},
   "outputs": [
    {
     "name": "stdout",
     "output_type": "stream",
     "text": [
      "Enter the input : Lucknow is the city of nawab\n",
      "L, u, c, k, n, o, w, i, s, t, h, e, c, i, t, y, o, f, n, a, w, a, b, "
     ]
    }
   ],
   "source": [
    "my_string = str(input(\"Enter the input : \"))\n",
    "for outcome in my_string:\n",
    "    if outcome == \" \":\n",
    "        del(outcome)\n",
    "    else:\n",
    "        print(outcome,end = \", \")\n",
    "        "
   ]
  },
  {
   "cell_type": "markdown",
   "id": "4ea1706b",
   "metadata": {},
   "source": [
    "##### 9. Write a Python program to find the largest number in a list using a for loop.\n"
   ]
  },
  {
   "cell_type": "code",
   "execution_count": 85,
   "id": "51c28014",
   "metadata": {},
   "outputs": [
    {
     "data": {
      "text/plain": [
       "86"
      ]
     },
     "execution_count": 85,
     "metadata": {},
     "output_type": "execute_result"
    }
   ],
   "source": [
    "my_list = [3,5,6,7,33,86,8,4,39,3,]\n",
    "def largest_num(l):\n",
    "    if l[0]==len(my_list):\n",
    "        return l\n",
    "    else:\n",
    "        for items in l:\n",
    "            return max(l)\n",
    "largest_num(my_list)             \n",
    "        "
   ]
  },
  {
   "cell_type": "code",
   "execution_count": 99,
   "id": "79c46505",
   "metadata": {},
   "outputs": [
    {
     "data": {
      "text/plain": [
       "86"
      ]
     },
     "execution_count": 99,
     "metadata": {},
     "output_type": "execute_result"
    }
   ],
   "source": [
    "my_list = [3,5,6,7,33,86,8,4,39,3,]\n",
    "def largest_number(num):\n",
    "    largest = num[0]\n",
    "    \n",
    "    for i in num:\n",
    "        if i>largest:\n",
    "            largest = i\n",
    "    return largest\n",
    "largest_number(my_list)"
   ]
  },
  {
   "cell_type": "markdown",
   "id": "44238930",
   "metadata": {},
   "source": [
    "##### 10. Create a Python program that prints the Fibonacci sequence up to a specified limit using a for loop."
   ]
  },
  {
   "cell_type": "code",
   "execution_count": 83,
   "id": "bbb6a781",
   "metadata": {},
   "outputs": [
    {
     "name": "stdout",
     "output_type": "stream",
     "text": [
      "Enter the number : 6\n"
     ]
    },
    {
     "data": {
      "text/plain": [
       "8"
      ]
     },
     "execution_count": 83,
     "metadata": {},
     "output_type": "execute_result"
    }
   ],
   "source": [
    "user = int(input(\"Enter the number : \"))\n",
    "def findfab(user):\n",
    "    a = 0 # n - 2\n",
    "    b = 1 # n - 1\n",
    "    \n",
    "    if user<=1: \n",
    "        return user\n",
    "    while user>=2:\n",
    "        t = a+b\n",
    "        a,b = b,t\n",
    "        user -=1\n",
    "    return t\n",
    "findfab(user)\n",
    "             "
   ]
  },
  {
   "cell_type": "markdown",
   "id": "9f61e0e7",
   "metadata": {},
   "source": [
    "##### 11. Write a Python program to count the number of vowels in a given string using a for loop."
   ]
  },
  {
   "cell_type": "code",
   "execution_count": 159,
   "id": "f453dc7f",
   "metadata": {},
   "outputs": [
    {
     "name": "stdout",
     "output_type": "stream",
     "text": [
      "Enter the input : mankind people are good\n",
      "9\n"
     ]
    }
   ],
   "source": [
    "my_string = input(\"Enter the input : \").lower()\n",
    "count = 0\n",
    "for items in my_string:\n",
    "    if items in [\"a\",'e','o','i','u']:\n",
    "        count = count+1\n",
    "print(count)"
   ]
  },
  {
   "cell_type": "markdown",
   "id": "6e941716",
   "metadata": {},
   "source": [
    "##### 12. Create a Python program that generates a multiplication table for a given number using a for\n",
    "loop.\n"
   ]
  },
  {
   "cell_type": "code",
   "execution_count": 9,
   "id": "7cd6e96e",
   "metadata": {},
   "outputs": [
    {
     "name": "stdout",
     "output_type": "stream",
     "text": [
      "Enter the table : 6\n",
      "6 X 1 = 6\n",
      "6 X 2 = 12\n",
      "6 X 3 = 18\n",
      "6 X 4 = 24\n",
      "6 X 5 = 30\n",
      "6 X 6 = 36\n",
      "6 X 7 = 42\n",
      "6 X 8 = 48\n",
      "6 X 9 = 54\n",
      "6 X 10 = 60\n"
     ]
    }
   ],
   "source": [
    "table = int(input(\"Enter the table : \"))\n",
    "for i in range(1,11):\n",
    "    m  = i*table\n",
    "    print(table,\"X\",i ,\"=\",m)\n",
    "   "
   ]
  },
  {
   "cell_type": "markdown",
   "id": "4186a65a",
   "metadata": {},
   "source": [
    "##### 13. Write a Python program to reverse a list using a for loop.\n"
   ]
  },
  {
   "cell_type": "code",
   "execution_count": 11,
   "id": "7df54c46",
   "metadata": {},
   "outputs": [
    {
     "name": "stdout",
     "output_type": "stream",
     "text": [
      "Enter the input : the lucknow is the city of nawab\n",
      "['nawab', 'of', 'city', 'the', 'is', 'lucknow']\n"
     ]
    }
   ],
   "source": [
    "my_string = input(\"Enter the input : \").split()\n",
    "x = []\n",
    "for i in range(1,len(my_string)):\n",
    "    x.append(my_string[len(my_string)-i])\n",
    "print(x)"
   ]
  },
  {
   "cell_type": "code",
   "execution_count": 12,
   "id": "0f360bad",
   "metadata": {},
   "outputs": [
    {
     "name": "stdout",
     "output_type": "stream",
     "text": [
      "['nawab', 'of', 'city', 'the', 'is', 'lucknow', 'the']\n"
     ]
    }
   ],
   "source": [
    "u = []\n",
    "for i in range(len(my_string)-1,-1,-1):\n",
    "    u.append(my_string[i])\n",
    "print(u)\n",
    "        \n",
    "        "
   ]
  },
  {
   "cell_type": "markdown",
   "id": "59c59619",
   "metadata": {},
   "source": [
    "##### 14. Write a Python program to find the common elements between two lists using a for loop"
   ]
  },
  {
   "cell_type": "code",
   "execution_count": 280,
   "id": "5f0f63f9",
   "metadata": {},
   "outputs": [
    {
     "name": "stdout",
     "output_type": "stream",
     "text": [
      "{35, 3, 6, 7, 8, 'deli', 'kanpur', 'lucknow'}\n"
     ]
    }
   ],
   "source": [
    "list1 = [3,35,\"luckknow\",\"kanpur\",\"lucknow\",6,7,8,4,\"stysns\",\"kanpur\",9,3,35,\"deli\"]\n",
    "list2  = [\"lucknow\",64,3,2,\"kanpur\",7,8,3,8,\"deli\",\"raman\",\"lucknow\",3,6,6,6,\"lucknow\", 'kanpur',35,'krushna']\n",
    "list2_0= []\n",
    "for i in list1: \n",
    "        if i in list2:\n",
    "            list2_0.append(i)\n",
    "print(set(list2_0))"
   ]
  },
  {
   "cell_type": "markdown",
   "id": "1e994067",
   "metadata": {},
   "source": [
    "##### 15. Explain how to use a for loop to iterate through the keys and values of a dictionary in Python."
   ]
  },
  {
   "cell_type": "code",
   "execution_count": 380,
   "id": "249c5b97",
   "metadata": {},
   "outputs": [
    {
     "name": "stdout",
     "output_type": "stream",
     "text": [
      "aryan, prince, india, flag, gods, kanpur, \n",
      "\n",
      "\n",
      "a,p,i,f,g,k,"
     ]
    }
   ],
   "source": [
    "d = {\"aryan\":\"a\",\"prince\":\"p\",\"india\":\"i\",\"flag\":\"f\",\"gods\":\"g\",\"kanpur\":\"k\"}\n",
    "for i in d:\n",
    "    print(i,end = \", \")\n",
    "print(\"\\n\\n\")\n",
    "for i in d:\n",
    "    print(d[i] ,end = \",\")\n",
    "\n",
    "    \n",
    "            "
   ]
  },
  {
   "cell_type": "markdown",
   "id": "16e458c1",
   "metadata": {},
   "source": [
    "##### 16. Write a Python program to find the GCD (Greatest Common Divisor) of two numbers using a for\n",
    "loop.\n"
   ]
  },
  {
   "cell_type": "code",
   "execution_count": 14,
   "id": "fc576771",
   "metadata": {},
   "outputs": [
    {
     "name": "stdout",
     "output_type": "stream",
     "text": [
      "16\n"
     ]
    }
   ],
   "source": [
    "import math\n",
    "print(math.gcd(64,48))"
   ]
  },
  {
   "cell_type": "code",
   "execution_count": 393,
   "id": "1274ec7f",
   "metadata": {},
   "outputs": [
    {
     "name": "stdout",
     "output_type": "stream",
     "text": [
      "Enter the number : 64\n",
      "Enterh the number 48\n"
     ]
    },
    {
     "data": {
      "text/plain": [
       "16"
      ]
     },
     "execution_count": 393,
     "metadata": {},
     "output_type": "execute_result"
    }
   ],
   "source": [
    "# by using eculid method \n",
    "def gcd(a,b):\n",
    "    if b == 0:\n",
    "        return a\n",
    "    else:\n",
    "        return gcd(b,a%b)\n",
    "num1= int(input(\"Enter the number : \"))\n",
    "num2 = int(input(\"Enterh the number \"))\n",
    "gcd(num1,num2)"
   ]
  },
  {
   "cell_type": "markdown",
   "id": "cd95283c",
   "metadata": {},
   "source": [
    "\n",
    "##### 17. Create a Python program that checks if a string is a palindrome using a for loop."
   ]
  },
  {
   "cell_type": "code",
   "execution_count": 87,
   "id": "5317d64e",
   "metadata": {},
   "outputs": [
    {
     "name": "stdout",
     "output_type": "stream",
     "text": [
      "Enter the input : yaday\n",
      "yaday it is a palindrome\n"
     ]
    }
   ],
   "source": [
    "def check_palin(s):\n",
    "    palindrone = \"\"\n",
    "    for i in range(len(s)-1,-1,-1):\n",
    "        palindrone +=s[i]\n",
    "    return s == palindrone   # if this condition satisfied then print it is a palindrone\n",
    "string = input(\"Enter the input : \")\n",
    "if check_palin(string):\n",
    "    print(string,\"it is a palindrome\")\n",
    "else:\n",
    "    print(string,\"it is nnot a palindrome\")"
   ]
  },
  {
   "cell_type": "markdown",
   "id": "91f481e4",
   "metadata": {},
   "source": [
    "##### 18. Write a Python program to remove duplicates from a list using a for loop.\n"
   ]
  },
  {
   "cell_type": "code",
   "execution_count": 46,
   "id": "1f45fa94",
   "metadata": {},
   "outputs": [
    {
     "name": "stdout",
     "output_type": "stream",
     "text": [
      "[2, 4, 5, 6, 8, 3, 12, 67, 45, 76]\n"
     ]
    }
   ],
   "source": [
    "my_list = [2,4,5,6,8,6,3,2,12,67,5,4,45,76]\n",
    "new_list = []\n",
    "for i in my_list:\n",
    "    if i not in new_list:\n",
    "        new_list.append(i)\n",
    "print(new_list)"
   ]
  },
  {
   "cell_type": "markdown",
   "id": "176f5930",
   "metadata": {},
   "source": [
    "##### 19. Create a Python program that counts the number of words in a sentence using a for loop."
   ]
  },
  {
   "cell_type": "code",
   "execution_count": 55,
   "id": "14fd861a",
   "metadata": {},
   "outputs": [
    {
     "name": "stdout",
     "output_type": "stream",
     "text": [
      "Enter the input : the car number of 3453 and the mobil no 12344\n",
      "27\n"
     ]
    }
   ],
   "source": [
    "my_sent= input(\"Enter the input : \")\n",
    "count = 0\n",
    "for element in my_sent:\n",
    "    if element.isalpha() == True:\n",
    "        count += 1\n",
    "print(count)"
   ]
  },
  {
   "cell_type": "markdown",
   "id": "e3dab0ed",
   "metadata": {},
   "source": [
    "##### 20. Write a Python program to find the sum of all odd numbers from 1 to 50 using a for loop."
   ]
  },
  {
   "cell_type": "code",
   "execution_count": 89,
   "id": "758f7096",
   "metadata": {},
   "outputs": [
    {
     "name": "stdout",
     "output_type": "stream",
     "text": [
      "625\n"
     ]
    }
   ],
   "source": [
    "sum = 0\n",
    "for i in range(51):\n",
    "    if i%2!=0:\n",
    "        sum = sum+i\n",
    "print(sum)\n",
    "        "
   ]
  },
  {
   "cell_type": "markdown",
   "id": "082d3101",
   "metadata": {},
   "source": [
    "##### 21. Write a Python program that checks if a given year is a leap year using a for loop##### "
   ]
  },
  {
   "cell_type": "code",
   "execution_count": 90,
   "id": "24236a67",
   "metadata": {},
   "outputs": [
    {
     "name": "stdout",
     "output_type": "stream",
     "text": [
      "Enter the year : 11\n",
      "11 it is not a leap year \n"
     ]
    }
   ],
   "source": [
    "def check_leap(y):\n",
    "    y == False\n",
    "    if y%4== 0:\n",
    "        y = True\n",
    "        if y%100 == 0:\n",
    "            y = False\n",
    "        if y %400 == 0:\n",
    "            y == True\n",
    "    return y==True\n",
    "s = int(input(\"Enter the year : \"))\n",
    "if check_leap(s):\n",
    "    print(s,\"it is a leap year\")\n",
    "else: \n",
    "    print(s,\"it is not a leap year \")"
   ]
  },
  {
   "cell_type": "markdown",
   "id": "9a6976b6",
   "metadata": {},
   "source": [
    "##### 22. Create a Python program that calculates the square root of a number using a for loop.\n"
   ]
  },
  {
   "cell_type": "code",
   "execution_count": 25,
   "id": "36dcc12c",
   "metadata": {},
   "outputs": [
    {
     "name": "stdout",
     "output_type": "stream",
     "text": [
      "Enter the number : 7\n",
      "the square root is  2.6457513110645907\n"
     ]
    }
   ],
   "source": [
    "sqr = int(input(\"Enter the number : \"))\n",
    "root = sqr**(0.5)\n",
    "print(\"the square root is \", root)"
   ]
  },
  {
   "cell_type": "code",
   "execution_count": 27,
   "id": "1e7ec235",
   "metadata": {},
   "outputs": [
    {
     "data": {
      "text/plain": [
       "2.6457513110645907"
      ]
     },
     "execution_count": 27,
     "metadata": {},
     "output_type": "execute_result"
    }
   ],
   "source": [
    "import math\n",
    "math.sqrt(sqr)"
   ]
  },
  {
   "cell_type": "markdown",
   "id": "d868b4db",
   "metadata": {},
   "source": [
    "##### 23. Write a Python program to find the LCM (Least Common Multiple) of two numbers using a for\n",
    "loop."
   ]
  },
  {
   "cell_type": "code",
   "execution_count": 91,
   "id": "6a1292b4",
   "metadata": {},
   "outputs": [
    {
     "name": "stdout",
     "output_type": "stream",
     "text": [
      "Enter the number : 11\n",
      "Enter the number : 12\n"
     ]
    },
    {
     "data": {
      "text/plain": [
       "(132, 'is the LCM of')"
      ]
     },
     "execution_count": 91,
     "metadata": {},
     "output_type": "execute_result"
    }
   ],
   "source": [
    "def find_lcm(x,y):\n",
    "    if x>y:\n",
    "        higher = x\n",
    "    else:\n",
    "        higher = y\n",
    "    value = higher\n",
    "    while True:\n",
    "        if higher%x==0 and higher%y==0:\n",
    "            return higher,\"is the LCM of\"\n",
    "            break\n",
    "        else:\n",
    "            higher = higher+value\n",
    "n1 = int(input(\"Enter the number : \"))\n",
    "n2 = int(input(\"Enter the number : \"))\n",
    "find_lcm(n1,n2)"
   ]
  },
  {
   "cell_type": "markdown",
   "id": "4d73f9be",
   "metadata": {},
   "source": [
    "# if else"
   ]
  },
  {
   "cell_type": "markdown",
   "id": "3ac4b57f",
   "metadata": {},
   "source": [
    "##### 1. Write a Python program to check if a number is positive, negative, or zero using an if-else\n",
    "statement."
   ]
  },
  {
   "cell_type": "code",
   "execution_count": 40,
   "id": "731ad926",
   "metadata": {},
   "outputs": [
    {
     "name": "stdout",
     "output_type": "stream",
     "text": [
      "Enter the number : 8\n",
      "the number is postive\n"
     ]
    }
   ],
   "source": [
    "my_num = int(input(\"Enter the number : \"))\n",
    "if my_num <0:\n",
    "    print(\"the number is negtive\")\n",
    "elif my_num==0:\n",
    "    print(\"the number is zero\")\n",
    "else:\n",
    "    print(\"the number is postive\")"
   ]
  },
  {
   "cell_type": "markdown",
   "id": "ea5ac7da",
   "metadata": {},
   "source": [
    "##### 2. Create a Python program that checks if a given number is even or odd using an if-else statement.\n"
   ]
  },
  {
   "cell_type": "code",
   "execution_count": 52,
   "id": "ce84223f",
   "metadata": {},
   "outputs": [
    {
     "name": "stdout",
     "output_type": "stream",
     "text": [
      "Enter the number : 0\n",
      "0 the number is neither be even nor be odd\n"
     ]
    }
   ],
   "source": [
    "take_num = int(input(\"Enter the number : \"))\n",
    "if take_num ==0:\n",
    "    print(take_num,\"the number is neither be even nor be odd\")\n",
    "elif take_num%2==0:\n",
    "    print(take_num,\"the number is even \")\n",
    "else:\n",
    "    print(take_num,\"the number is odd \")    "
   ]
  },
  {
   "cell_type": "markdown",
   "id": "47228935",
   "metadata": {},
   "source": [
    "##### 3. How can you use nested if-else statements in Python, and provide an example?\n"
   ]
  },
  {
   "cell_type": "code",
   "execution_count": 54,
   "id": "6bbcb836",
   "metadata": {},
   "outputs": [
    {
     "name": "stdout",
     "output_type": "stream",
     "text": [
      "right information\n",
      "right information \n",
      "right information\n",
      "day is not correct.\n"
     ]
    }
   ],
   "source": [
    "# if and else nested statement use when the condition statement have another \n",
    "# conditional statement then we use the nested if-else statments \\\n",
    "# lets us example \n",
    "\n",
    "school = \"creative\"\n",
    "stu_name = \"aryan\"\n",
    "stu_class = \"fourth\"\n",
    "day = \"wednesday\"\n",
    "if school == \"creative\":\n",
    "    print(\"right information\")\n",
    "    if stu_name == \"aryan\":\n",
    "        print(\"right information \")\n",
    "        if stu_class == \"fourth\":\n",
    "            print(\"right information\")\n",
    "            if day == \"saturday\":\n",
    "                print(\"ok fine\")\n",
    "            else:\n",
    "                print(\"day is not correct.\")\n",
    "        else:\n",
    "            print(\"stud_class is not correct \")\n",
    "    else:\n",
    "        print(\"stu_name is not correct match \")\n",
    "else:\n",
    "    print(\"something went wrong!\")"
   ]
  },
  {
   "cell_type": "markdown",
   "id": "f7678ff4",
   "metadata": {},
   "source": [
    "##### 4. Write a Python program to determine the largest of three numbers using if-else."
   ]
  },
  {
   "cell_type": "code",
   "execution_count": 56,
   "id": "2bb8a492",
   "metadata": {},
   "outputs": [
    {
     "name": "stdout",
     "output_type": "stream",
     "text": [
      "Enter the num first : 3\n",
      "Enter the num second : 4\n",
      "Enter the num third : 6\n",
      "6 is the largest number : \n"
     ]
    }
   ],
   "source": [
    "num1 = int(input(\"Enter the num first : \"))\n",
    "num2 = int(input(\"Enter the num second : \"))\n",
    "num3 = int(input(\"Enter the num third : \"))\n",
    "if num1<num2 and num2>num3:\n",
    "    print(num2,\"is the largest number .\")\n",
    "elif num3>num2 and num3>num1:\n",
    "    print(num3,\"is the largest number : \")\n",
    "elif num1>num3 and num1>num2:\n",
    "    print(num1,\"is the largest number \")\n",
    "else:\n",
    "    print(\"the all numbers are equals = \",num1)"
   ]
  },
  {
   "cell_type": "markdown",
   "id": "61c281b1",
   "metadata": {},
   "source": [
    "# map"
   ]
  },
  {
   "cell_type": "markdown",
   "id": "62cbacfe",
   "metadata": {},
   "source": [
    "##### 1. Explain the purpose of the `map()` function in Python and provide an example of how it can be\n",
    "used to apply a function to each element of an iterable."
   ]
  },
  {
   "cell_type": "markdown",
   "id": "6f79ca3f",
   "metadata": {},
   "source": [
    "The purpose of the map() function in Python is to apply a specific function to each item in an iterable (such as a list or tuple) and return an iterator of the results. It is used when we want to transform each element of an iterable by applying a particular operation or function to them, without using a loop."
   ]
  },
  {
   "cell_type": "code",
   "execution_count": 58,
   "id": "62c61e57",
   "metadata": {},
   "outputs": [
    {
     "name": "stdout",
     "output_type": "stream",
     "text": [
      "[9, 16, 16, 5476, 9, 4, 36]\n"
     ]
    }
   ],
   "source": [
    "my_map = [3,4,4,74,3,2,6]\n",
    "mapping = list(map(lambda i:i**2,my_map))\n",
    "print(mapping)"
   ]
  },
  {
   "cell_type": "markdown",
   "id": "4958863c",
   "metadata": {},
   "source": [
    "##### 2. Write a Python program that uses the `map()` function to square each element of a list of\n",
    "numbers."
   ]
  },
  {
   "cell_type": "code",
   "execution_count": 68,
   "id": "af7ddfc0",
   "metadata": {},
   "outputs": [
    {
     "data": {
      "text/plain": [
       "[4, 25, 49, 7056, 9, 16, 8100, 7569]"
      ]
     },
     "execution_count": 68,
     "metadata": {},
     "output_type": "execute_result"
    }
   ],
   "source": [
    "my_list = [2,5,7,84,3,4,90,87]\n",
    "list(map(lambda x:x*x,my_list))"
   ]
  },
  {
   "cell_type": "markdown",
   "id": "c3beb874",
   "metadata": {},
   "source": [
    "##### 3. How does the `map()` function differ from a list comprehension in Python, and when would you\n",
    "choose one over the other?\n"
   ]
  },
  {
   "cell_type": "markdown",
   "id": "313db768",
   "metadata": {},
   "source": [
    " The map() function and list comprehension in Python both allow us to apply a transformation to each element of an iterable and collect the results. However, they differ in syntax and some functional aspects.\n",
    "\n",
    "Here are some differences between map() and list comprehension in Python:\n",
    "\n",
    "Syntax:\n",
    "\n",
    "map() takes two arguments, a function and an iterable, and returns a map object. It requires passing a function explicitly.\n",
    "List comprehension has a more concise syntax and doesn't require explicitly passing a function. It uses square brackets [] to denote the comprehension.\n",
    "Return Type:\n",
    "\n",
    "map() returns a map object, which is an iterator. To get the result as a list, we need to convert it using the list() function.\n",
    "List comprehension directly returns a new list.\n",
    "Functionality:\n",
    "\n",
    "map() always requires a function as the first argument. It applies the given function to each element of the iterable and returns an iterator of the results.\n",
    "List comprehension can include conditional statements, allowing filtering elements from the iterable based on certain conditions."
   ]
  },
  {
   "cell_type": "markdown",
   "id": "a68654b7",
   "metadata": {},
   "source": [
    "##### 4. Create a Python program that uses the `map()` function to convert a list of names to uppercase."
   ]
  },
  {
   "cell_type": "code",
   "execution_count": 71,
   "id": "d5aff08d",
   "metadata": {},
   "outputs": [
    {
     "data": {
      "text/plain": [
       "['ARYAN', 'ARMAN', 'SUMIT', 'RAM', 'JUPYTER']"
      ]
     },
     "execution_count": 71,
     "metadata": {},
     "output_type": "execute_result"
    }
   ],
   "source": [
    "l = [\"aryan\",\"arman\",\"sumit\",\"ram\",\"jupyter\"]\n",
    "list(map(lambda a:a.upper(),l))"
   ]
  },
  {
   "cell_type": "markdown",
   "id": "2e3da9c3",
   "metadata": {},
   "source": [
    "##### 5. Write a Python program that uses the `map()` function to calculate the length of each word in a\n",
    "list of strings"
   ]
  },
  {
   "cell_type": "code",
   "execution_count": 76,
   "id": "d5313d55",
   "metadata": {},
   "outputs": [
    {
     "data": {
      "text/plain": [
       "[5, 6, 5, 3, 7]"
      ]
     },
     "execution_count": 76,
     "metadata": {},
     "output_type": "execute_result"
    }
   ],
   "source": [
    "l = [\"aryan\",\"arvind\",\"sumit\",\"ram\",\"jupyter\"]\n",
    "list(map(lambda t:len(t),l))"
   ]
  },
  {
   "cell_type": "markdown",
   "id": "7d591b34",
   "metadata": {},
   "source": [
    "##### 6. How can you use the `map()` function to apply a custom function to elements of multiple lists\n",
    "simultaneously in Python?\n"
   ]
  },
  {
   "cell_type": "code",
   "execution_count": 6,
   "id": "2bc68f50",
   "metadata": {},
   "outputs": [
    {
     "data": {
      "text/plain": [
       "[78.5, 166, 106]"
      ]
     },
     "execution_count": 6,
     "metadata": {},
     "output_type": "execute_result"
    }
   ],
   "source": [
    "def custom_function(a,b,c):\n",
    "    return a+b+c\n",
    "lis_1 = [29,94,8]\n",
    "lis_2 = [3.5,64,4]\n",
    "lis_3 = [46,8,94]\n",
    "\n",
    "list(map(custom_function,lis_1,lis_2,lis_3))"
   ]
  },
  {
   "cell_type": "markdown",
   "id": "33dc6cc9",
   "metadata": {},
   "source": [
    "##### 7. Create a Python program that uses `map()` to convert a list of temperatures from Celsius to\n",
    "Fahrenheit.\n"
   ]
  },
  {
   "cell_type": "code",
   "execution_count": 80,
   "id": "9a9d866b",
   "metadata": {},
   "outputs": [
    {
     "name": "stdout",
     "output_type": "stream",
     "text": [
      "temperature in Fahrenheit  =  [(13.5, 56.3), (15, 59.0), (45, 113.0), (34, 93.2), (-2, 28.4), (-7, 19.4), (18, 64.4)]\n"
     ]
    }
   ],
   "source": [
    "# f = 1.8*C+32\n",
    "temp_in_celcius = [13.5,15,45,34,-2,-7,18]\n",
    "a = list(map(lambda temp:temp*1.8+32,temp_in_celcius))\n",
    "print(\"temperature in Fahrenheit  = \",list(zip(temp_in_celcius,a)))"
   ]
  },
  {
   "cell_type": "markdown",
   "id": "b4d36346",
   "metadata": {},
   "source": [
    "##### 8. Write a Python program that uses the `map()` function to round each element of a list of\n",
    "floating-point numbers to the nearest integer."
   ]
  },
  {
   "cell_type": "code",
   "execution_count": 250,
   "id": "263a4a78",
   "metadata": {},
   "outputs": [
    {
     "data": {
      "text/plain": [
       "[24, 64, 3, 68, 67, 13]"
      ]
     },
     "execution_count": 250,
     "metadata": {},
     "output_type": "execute_result"
    }
   ],
   "source": [
    "num = [23.53,64.23,2.7,68.4,67.0,12.99]# num>1\n",
    "new_num = list(map(lambda i:int(i)+1 if i%int(i)>0.5 else int(i),num))\n",
    "new_num"
   ]
  },
  {
   "cell_type": "code",
   "execution_count": 92,
   "id": "a779403a",
   "metadata": {},
   "outputs": [
    {
     "name": "stdout",
     "output_type": "stream",
     "text": [
      "the round of value is  [(23.53, 24), (-64.23, -65), (9.56, 10), (3.33, 3), (0.7, 1), (68.4, 68), (67.0, 66), (-12.99, -13), (0.4, 0), (0.001, 0), (-100.3, -101)]\n"
     ]
    }
   ],
   "source": [
    "number = [23.53,-64.23,9.56,3.33,0.7,68.4,67.0,-12.99,0.4,0.001,-100.3]\n",
    "\n",
    "def test_2(n):\n",
    "    if 0<n<1:\n",
    "        if n+1>=1.5:\n",
    "            return 1\n",
    "        elif 1<n+1<1.5:\n",
    "            return 0    \n",
    "    elif n%(-int(n))> -(0.5):\n",
    "        return int(n)-1\n",
    "    elif n%int(n)>0.5:\n",
    "        return int(n)+1\n",
    "    \n",
    "    else:\n",
    "        return int(n)\n",
    "n = list(map(test_2,number))\n",
    "print(\"the round of value is \",list(zip(number,n)))"
   ]
  },
  {
   "cell_type": "code",
   "execution_count": 246,
   "id": "10ecfa97",
   "metadata": {},
   "outputs": [
    {
     "data": {
      "text/plain": [
       "-45.5"
      ]
     },
     "execution_count": 246,
     "metadata": {},
     "output_type": "execute_result"
    }
   ],
   "source": [
    "a = -45.5\n",
    "a"
   ]
  },
  {
   "cell_type": "code",
   "execution_count": 247,
   "id": "c0b9bc79",
   "metadata": {},
   "outputs": [
    {
     "data": {
      "text/plain": [
       "-45"
      ]
     },
     "execution_count": 247,
     "metadata": {},
     "output_type": "execute_result"
    }
   ],
   "source": [
    "int(a)"
   ]
  },
  {
   "cell_type": "markdown",
   "id": "108386e7",
   "metadata": {},
   "source": [
    "### reduce"
   ]
  },
  {
   "cell_type": "markdown",
   "id": "3cbd1c78",
   "metadata": {},
   "source": [
    "##### 1. What is the `reduce()` function in Python, and what module should you import to use it? Provide\n",
    "an example of its basic usage."
   ]
  },
  {
   "cell_type": "code",
   "execution_count": 14,
   "id": "5fa46df1",
   "metadata": {},
   "outputs": [
    {
     "data": {
      "text/plain": [
       "67"
      ]
     },
     "execution_count": 14,
     "metadata": {},
     "output_type": "execute_result"
    }
   ],
   "source": [
    "from functools import reduce\n",
    "# functools module should  be used to reduce the given situation\n",
    "lis = [3,53,2,5,4]\n",
    "# add the items of the list\n",
    "reduce(lambda a,y:a+y,lis)"
   ]
  },
  {
   "cell_type": "markdown",
   "id": "cfe175bd",
   "metadata": {},
   "source": [
    "##### 2. Write a Python program that uses the `reduce()` function to find the product of all elements in a\n",
    "list"
   ]
  },
  {
   "cell_type": "code",
   "execution_count": 17,
   "id": "9093bf13",
   "metadata": {},
   "outputs": [
    {
     "data": {
      "text/plain": [
       "6360"
      ]
     },
     "execution_count": 17,
     "metadata": {},
     "output_type": "execute_result"
    }
   ],
   "source": [
    "from functools import reduce # write only one time is sufficient \n",
    "lis = [3,53,2,5,4]\n",
    "reduce(lambda a,b : a*b,lis)"
   ]
  },
  {
   "cell_type": "markdown",
   "id": "6be47aef",
   "metadata": {},
   "source": [
    "##### 3. Create a Python program that uses `reduce()` to find the maximum element in a list of numbers.\n"
   ]
  },
  {
   "cell_type": "code",
   "execution_count": 20,
   "id": "5612cf02",
   "metadata": {},
   "outputs": [
    {
     "data": {
      "text/plain": [
       "58"
      ]
     },
     "execution_count": 20,
     "metadata": {},
     "output_type": "execute_result"
    }
   ],
   "source": [
    "lis = [3,53,2,5,4,58,49,7,34,2,3,9]\n",
    "reduce(lambda p,q:p if p>q else q,lis)\n"
   ]
  },
  {
   "cell_type": "markdown",
   "id": "634d8a35",
   "metadata": {},
   "source": [
    "###### to print the second max element in the list"
   ]
  },
  {
   "cell_type": "code",
   "execution_count": 32,
   "id": "c3e562cd",
   "metadata": {},
   "outputs": [
    {
     "data": {
      "text/plain": [
       "53"
      ]
     },
     "execution_count": 32,
     "metadata": {},
     "output_type": "execute_result"
    }
   ],
   "source": [
    "lis = [3,53,2,5,4,58,49,7,34,2,3,9]\n",
    "lis.sort()\n",
    "lis[(len(lis)-2)]"
   ]
  },
  {
   "cell_type": "markdown",
   "id": "ce3c2af9",
   "metadata": {},
   "source": [
    "##### 4. How can you use the `reduce()` function to concatenate a list of strings into a single string?\n"
   ]
  },
  {
   "cell_type": "code",
   "execution_count": 2,
   "id": "f9e88aea",
   "metadata": {},
   "outputs": [
    {
     "data": {
      "text/plain": [
       "'aryanyadav4149citylucknow'"
      ]
     },
     "execution_count": 2,
     "metadata": {},
     "output_type": "execute_result"
    }
   ],
   "source": [
    "from functools import reduce\n",
    "list1= [\"aryan\",\"yadav\",\"4149\",\"city\",\"lucknow\"]\n",
    "reduce(lambda a,b:a+b,list1)"
   ]
  },
  {
   "cell_type": "markdown",
   "id": "d7566fd3",
   "metadata": {},
   "source": [
    "##### factorial"
   ]
  },
  {
   "cell_type": "code",
   "execution_count": 94,
   "id": "13d8ee6a",
   "metadata": {},
   "outputs": [
    {
     "name": "stdout",
     "output_type": "stream",
     "text": [
      "Enter the number :6\n"
     ]
    },
    {
     "data": {
      "text/plain": [
       "720"
      ]
     },
     "execution_count": 94,
     "metadata": {},
     "output_type": "execute_result"
    }
   ],
   "source": [
    "from functools import reduce\n",
    "my_data = int(input(\"Enter the number :\"))\n",
    "a = [x for x in range(1,my_data+1)]\n",
    "reduce(lambda x,y:x*y,a)"
   ]
  },
  {
   "cell_type": "markdown",
   "id": "13aff68f",
   "metadata": {},
   "source": [
    "##### 6. Create a Python program that uses `reduce()` to find the GCD (Greatest Common Divisor) of a list\n",
    "of numbers.\n",
    "    "
   ]
  },
  {
   "cell_type": "code",
   "execution_count": 26,
   "id": "a79c7c5b",
   "metadata": {},
   "outputs": [
    {
     "data": {
      "text/plain": [
       "2"
      ]
     },
     "execution_count": 26,
     "metadata": {},
     "output_type": "execute_result"
    }
   ],
   "source": [
    "from functools import reduce\n",
    "num1  = [34,36,72,6,68]\n",
    "def test(a,b):\n",
    "    while b!=0:\n",
    "        a,b = b,a%b\n",
    "    return a    \n",
    "reduce(test,num1)"
   ]
  },
  {
   "cell_type": "markdown",
   "id": "5c1bda31",
   "metadata": {},
   "source": [
    "##### 7. Write a Python program that uses the `reduce()` function to find the sum of the digits of a given\n",
    "number"
   ]
  },
  {
   "cell_type": "code",
   "execution_count": 95,
   "id": "b8c430e4",
   "metadata": {},
   "outputs": [
    {
     "name": "stdout",
     "output_type": "stream",
     "text": [
      "Enter the number : 78\n"
     ]
    },
    {
     "data": {
      "text/plain": [
       "15"
      ]
     },
     "execution_count": 95,
     "metadata": {},
     "output_type": "execute_result"
    }
   ],
   "source": [
    "i = input(\"Enter the number : \")\n",
    "def test(x):\n",
    "    lis = []\n",
    "    for j in x:\n",
    "        lis.append(int(j))\n",
    "    return lis\n",
    "a = test(i)\n",
    "reduce(lambda u,v:u+v,a)\n",
    " "
   ]
  },
  {
   "cell_type": "code",
   "execution_count": 96,
   "id": "0cadd83b",
   "metadata": {},
   "outputs": [
    {
     "data": {
      "text/plain": [
       "15"
      ]
     },
     "execution_count": 96,
     "metadata": {},
     "output_type": "execute_result"
    }
   ],
   "source": [
    "from functools import reduce\n",
    "reduce(lambda m,n:m+n,map(int,i))"
   ]
  },
  {
   "cell_type": "code",
   "execution_count": 4,
   "id": "152e43a0",
   "metadata": {},
   "outputs": [
    {
     "data": {
      "text/plain": [
       "[3, 4, 3, 5]"
      ]
     },
     "execution_count": 4,
     "metadata": {},
     "output_type": "execute_result"
    }
   ],
   "source": [
    "a = \"3435\"\n",
    "list(map(int,a))\n"
   ]
  },
  {
   "cell_type": "markdown",
   "id": "54240c63",
   "metadata": {},
   "source": [
    "# filter"
   ]
  },
  {
   "cell_type": "markdown",
   "id": "2256a3cd",
   "metadata": {},
   "source": [
    "##### 1. Explain the purpose of the `filter()` function in Python and provide an example of how it can be\n",
    "used to filter elements from an iterable.\n"
   ]
  },
  {
   "cell_type": "markdown",
   "id": "3cabc6e9",
   "metadata": {},
   "source": [
    "The filter() function in Python is used to filter out elements from an iterable based on a given condition. It takes two parameters, the first being a function that defines the condition and the second being the iterable to be filtered."
   ]
  },
  {
   "cell_type": "code",
   "execution_count": 53,
   "id": "662bc1d4",
   "metadata": {},
   "outputs": [
    {
     "data": {
      "text/plain": [
       "(34, 6, 26, 6, 4)"
      ]
     },
     "execution_count": 53,
     "metadata": {},
     "output_type": "execute_result"
    }
   ],
   "source": [
    "my_list = [34,6,3,9,3,19,57,26,6,4]\n",
    "tuple(filter(lambda x:x%2==0,my_list))"
   ]
  },
  {
   "cell_type": "markdown",
   "id": "f0a48d22",
   "metadata": {},
   "source": [
    "##### 2. Write a Python program that uses the `filter()` function to select even numbers from a list of\n",
    "integers."
   ]
  },
  {
   "cell_type": "code",
   "execution_count": 55,
   "id": "ad30bd27",
   "metadata": {},
   "outputs": [
    {
     "data": {
      "text/plain": [
       "(34, 6, 26, 6, 4)"
      ]
     },
     "execution_count": 55,
     "metadata": {},
     "output_type": "execute_result"
    }
   ],
   "source": [
    "my_list = [34,6,3,9,3,19,57,26,6,4]\n",
    "tuple(filter(lambda x:x%2==0,my_list))"
   ]
  },
  {
   "cell_type": "markdown",
   "id": "7e3f7c55",
   "metadata": {},
   "source": [
    "##### 3. Create a Python program that uses the `filter()` function to select names that start with a specific\n",
    "letter from a list of strings"
   ]
  },
  {
   "cell_type": "code",
   "execution_count": 83,
   "id": "a2c2bb01",
   "metadata": {},
   "outputs": [
    {
     "data": {
      "text/plain": [
       "['Aryan', 'Aonkey']"
      ]
     },
     "execution_count": 83,
     "metadata": {},
     "output_type": "execute_result"
    }
   ],
   "source": [
    "a = [\"Aryan\",\"Yadav\",\"Prince\",\"Aonkey\",\"Joney\",\"Steve\",\"root\",\"amla\"]\n",
    "list(filter(lambda i :i.startswith(\"A\"),a))"
   ]
  },
  {
   "cell_type": "markdown",
   "id": "9437cb13",
   "metadata": {},
   "source": [
    "##### 4. Write a Python program that uses the `filter()` function to select prime numbers from a list of\n",
    "integers."
   ]
  },
  {
   "cell_type": "code",
   "execution_count": 115,
   "id": "4a8a8f6b",
   "metadata": {},
   "outputs": [
    {
     "name": "stdout",
     "output_type": "stream",
     "text": [
      "[7, 3, 7, 5]\n"
     ]
    }
   ],
   "source": [
    "a =[7,9,4,3,9,7,5]\n",
    "print(list(filter(lambda x:all(x%y != 0 for y in range(2,x)),a)))"
   ]
  },
  {
   "cell_type": "code",
   "execution_count": 114,
   "id": "293f5f8a",
   "metadata": {},
   "outputs": [
    {
     "name": "stdout",
     "output_type": "stream",
     "text": [
      "[2, 3, 5, 7, 11, 13, 17, 19, 23, 29, 31, 37, 41, 43, 47, 53, 59, 61, 67, 71, 73, 79, 83, 89, 97, 101, 103, 107, 109, 113]\n"
     ]
    }
   ],
   "source": [
    "print(list(filter(lambda x:all(x%y!=0 for y in range(2,x)),range(2,120))))"
   ]
  },
  {
   "cell_type": "markdown",
   "id": "6005a5f9",
   "metadata": {},
   "source": [
    "##### 5. How can you use the `filter()` function to remove None values from a list in Python?"
   ]
  },
  {
   "cell_type": "code",
   "execution_count": 120,
   "id": "c5e7e445",
   "metadata": {},
   "outputs": [
    {
     "data": {
      "text/plain": [
       "[2, 34, 'aryan', 4, 'sameer']"
      ]
     },
     "execution_count": 120,
     "metadata": {},
     "output_type": "execute_result"
    }
   ],
   "source": [
    "l = [2,None,34,None,\"aryan\",4,\"sameer\",None,None]\n",
    "list(filter(lambda i: i is not None ,l))"
   ]
  },
  {
   "cell_type": "markdown",
   "id": "5ea52f5d",
   "metadata": {},
   "source": [
    "##### 6. Create a Python program that uses `filter()` to select words longer than a certain length from a\n",
    "list of strings.\n"
   ]
  },
  {
   "cell_type": "code",
   "execution_count": 122,
   "id": "6ad51383",
   "metadata": {},
   "outputs": [
    {
     "data": {
      "text/plain": [
       "('aram', 'calm', 'skill', 'good')"
      ]
     },
     "execution_count": 122,
     "metadata": {},
     "output_type": "execute_result"
    }
   ],
   "source": [
    "my_list = [\"aram\",\"puzzle\",\"humble\",\"calm\",\"innovative\",\"skill\",\"good\"]\n",
    "tuple(filter(lambda x:len(x)<6,my_list))"
   ]
  },
  {
   "cell_type": "markdown",
   "id": "36685a96",
   "metadata": {},
   "source": [
    "##### 7. Write a Python program that uses the `filter()` function to select elements greater than a\n",
    "specified threshold from a list of values."
   ]
  },
  {
   "cell_type": "code",
   "execution_count": 97,
   "id": "21d8b75d",
   "metadata": {},
   "outputs": [
    {
     "name": "stdout",
     "output_type": "stream",
     "text": [
      "Original list: [5, 10, 15, 2, 7, 20]\n",
      "Filtered list: [10, 15, 20]\n"
     ]
    }
   ],
   "source": [
    "# Define the list of values and threshold\n",
    "values = [5, 10, 15, 2, 7, 20]\n",
    "threshold = 8\n",
    "\n",
    "# Use filter() to select elements greater than the threshold\n",
    "filtered_values = list(filter(lambda x: x > threshold, values))\n",
    "\n",
    "# Print the original and filtered lists\n",
    "print(\"Original list:\", values)\n",
    "print(\"Filtered list:\", filtered_values)\n"
   ]
  },
  {
   "cell_type": "markdown",
   "id": "3bc303e4",
   "metadata": {},
   "source": [
    "# Recursion:-\n"
   ]
  },
  {
   "cell_type": "markdown",
   "id": "cb6c0728",
   "metadata": {},
   "source": [
    "##### 1. Explain the concept of recursion in Python. How does it differ from iteration"
   ]
  },
  {
   "cell_type": "markdown",
   "id": "a736c2b9",
   "metadata": {},
   "source": [
    "Recursion is a programming technique where a function calls itself to solve a smaller instance of the same problem. In Python, a recursive function is a function that calls itself within its own definition. A recursive function typically has two parts:\n",
    "\n",
    "Base Case: This is the termination condition that defines when the function stops calling itself. It helps in avoiding infinite recursive calls.\n",
    "Recursive Case: This is the part of the function where it calls itself with a smaller or simpler input to solve the larger problem step by step."
   ]
  },
  {
   "cell_type": "markdown",
   "id": "1944bd9d",
   "metadata": {},
   "source": [
    "##### 2. Write a Python program to calculate the factorial of a number using recursion."
   ]
  },
  {
   "cell_type": "code",
   "execution_count": 8,
   "id": "85d9d402",
   "metadata": {},
   "outputs": [
    {
     "name": "stdout",
     "output_type": "stream",
     "text": [
      "Enter the number :5\n"
     ]
    },
    {
     "data": {
      "text/plain": [
       "120"
      ]
     },
     "execution_count": 8,
     "metadata": {},
     "output_type": "execute_result"
    }
   ],
   "source": [
    "def fact_orial(f):\n",
    "    if f==0:\n",
    "        return 1\n",
    "    else:\n",
    "        return f*fact_orial(f-1)\n",
    "a = int(input(\"Enter the number :\"))\n",
    "fact_orial(a)"
   ]
  },
  {
   "cell_type": "markdown",
   "id": "2127978e",
   "metadata": {},
   "source": [
    "##### 3. Create a recursive Python function to find the nth Fibonacci number.\n"
   ]
  },
  {
   "cell_type": "code",
   "execution_count": 12,
   "id": "c1179ecb",
   "metadata": {},
   "outputs": [
    {
     "name": "stdout",
     "output_type": "stream",
     "text": [
      "Enter the number : 6\n"
     ]
    },
    {
     "data": {
      "text/plain": [
       "8"
      ]
     },
     "execution_count": 12,
     "metadata": {},
     "output_type": "execute_result"
    }
   ],
   "source": [
    "def Fab_num(fab):\n",
    "    if fab<=2:  # this is a base condition\n",
    "        return 1\n",
    "    else:\n",
    "        return Fab_num(fab-1)+Fab_num(fab-2)   # this a recurrsive case\n",
    "fabonacci_num = int(input(\"Enter the number : \"))\n",
    "Fab_num(fabonacci_num)"
   ]
  },
  {
   "cell_type": "markdown",
   "id": "05d38fb1",
   "metadata": {},
   "source": [
    "##### 4. Write a recursive Python function to calculate the sum of all elements in a list."
   ]
  },
  {
   "cell_type": "code",
   "execution_count": 48,
   "id": "c403a129",
   "metadata": {},
   "outputs": [
    {
     "data": {
      "text/plain": [
       "547"
      ]
     },
     "execution_count": 48,
     "metadata": {},
     "output_type": "execute_result"
    }
   ],
   "source": [
    "my_list = [23,5,3,6,73,57,345,34,1]\n",
    "def my_sums(i):\n",
    "    if (len(i)==1):\n",
    "        return i[0]\n",
    "    else:\n",
    "        return i[0]+my_sums(i[1:]) \n",
    "my_sums(my_list)\n",
    "    "
   ]
  },
  {
   "cell_type": "markdown",
   "id": "513c16b3",
   "metadata": {},
   "source": [
    "##### 5. How can you prevent a recursive function from running indefinitely, causing a stack overflow\n",
    "error?"
   ]
  },
  {
   "cell_type": "raw",
   "id": "988ced95",
   "metadata": {},
   "source": [
    "1. Base Case: Ensure your recursive function includes a base case that stops the recursion. The base case defines a condition under which the function stops calling itself. This is essential to prevent infinite recursion.\n",
    " \n",
    "2.Limiting Recursion Depth: Implement a depth counter or limit within the function to control the maximum allowed recursion depth. This can prevent excessive recursion.\n",
    "\n",
    "Example (Python):\n",
    "\n",
    "python\n",
    "Copy code\n",
    "def recursive_function(n, depth=0, max_depth=100):\n",
    "    if depth >= max_depth:  # Limit recursion depth\n",
    "        return\n",
    "    if n <= 0:  # Base case\n",
    "        return\n",
    "    else:\n",
    "        # Recursive call with a modified argument and incremented depth\n",
    "        recursive_function(n - 1, depth + 1, max_depth)\n",
    "Tail Call Optimization: Some programming languages (e.g., certain functional languages like Scheme, Erlang) optimize tail-recursive functions, allowing them to reuse the current stack frame rather than creating a new one. Check if your language supports tail call optimization.\n",
    "\n",
    "3.Iterative Approach: Convert the recursive function into an iterative one using loops. This eliminates the need for a call stack, avoiding stack overflow issues.\n",
    "\n",
    "Example (Python):\n",
    "\n",
    "python\n",
    "Copy code\n",
    "def iterative_function(n):\n",
    "    while n > 0:\n",
    "        # Perform operations here\n",
    "        n -= 1\n",
    "4. Careful Input Handling: Ensure that the input values are within acceptable ranges to prevent unintentional infinite recursion due to unexpected input.\n",
    "\n",
    "By employing these techniques, you can mitigate the risk of recursive functions running indefinitely and causing stack overflow errors."
   ]
  },
  {
   "cell_type": "markdown",
   "id": "be863de5",
   "metadata": {},
   "source": [
    "##### 6. Create a recursive Python function to find the greatest common divisor (GCD) of two numbers\n",
    "using the Euclidean algorith"
   ]
  },
  {
   "cell_type": "code",
   "execution_count": 56,
   "id": "21e7964b",
   "metadata": {},
   "outputs": [
    {
     "name": "stdout",
     "output_type": "stream",
     "text": [
      "  : 8\n",
      "  : 0\n",
      "8\n"
     ]
    }
   ],
   "source": [
    "a = int(input(\"  : \"))\n",
    "b = int(input(\"  : \"))\n",
    "if a>b:\n",
    "    mx = a\n",
    "    mn = b\n",
    "else:\n",
    "    mx = b\n",
    "    mn = a\n",
    "def gcd(mx,mn):\n",
    "    if mn == 0:\n",
    "        return mx\n",
    "    else:\n",
    "        return gcd(mn,mx%mn)\n",
    "result = gcd(mx,mn)\n",
    "print(result)\n",
    "\n",
    " "
   ]
  },
  {
   "cell_type": "code",
   "execution_count": 2,
   "id": "55f49137",
   "metadata": {},
   "outputs": [
    {
     "name": "stdout",
     "output_type": "stream",
     "text": [
      "12\n"
     ]
    }
   ],
   "source": [
    "import math \n",
    "print(math.gcd(36,48))"
   ]
  },
  {
   "cell_type": "markdown",
   "id": "97825064",
   "metadata": {},
   "source": [
    "# Basics of function"
   ]
  },
  {
   "cell_type": "markdown",
   "id": "7a04d7b6",
   "metadata": {},
   "source": [
    "##### 1. What is a function in Python, and why is it used?"
   ]
  },
  {
   "cell_type": "markdown",
   "id": "731a5916",
   "metadata": {},
   "source": [
    "function provide the stucuture of code and promote to reuse and maintanaiblity and reusibility"
   ]
  },
  {
   "cell_type": "markdown",
   "id": "e9c3b464",
   "metadata": {},
   "source": [
    "##### 2. How do you define a function in Python? Provide an example."
   ]
  },
  {
   "cell_type": "code",
   "execution_count": 2,
   "id": "d1af839f",
   "metadata": {},
   "outputs": [
    {
     "name": "stdout",
     "output_type": "stream",
     "text": [
      "3\n"
     ]
    },
    {
     "data": {
      "text/plain": [
       "5"
      ]
     },
     "execution_count": 2,
     "metadata": {},
     "output_type": "execute_result"
    }
   ],
   "source": [
    "def my_func(a):\n",
    "    b = int(input())\n",
    "    return a+b\n",
    "\n",
    "my_func(2)"
   ]
  },
  {
   "cell_type": "markdown",
   "id": "86ec4aae",
   "metadata": {},
   "source": [
    "# function parameter and arguments"
   ]
  },
  {
   "cell_type": "markdown",
   "id": "c36b57ca",
   "metadata": {},
   "source": [
    "##### 1. Explain the concepts of formal parameters and actual arguments in Python functions"
   ]
  },
  {
   "cell_type": "code",
   "execution_count": 98,
   "id": "3aaddae3",
   "metadata": {},
   "outputs": [
    {
     "data": {
      "text/plain": [
       "512"
      ]
     },
     "execution_count": 98,
     "metadata": {},
     "output_type": "execute_result"
    }
   ],
   "source": [
    "# function define parameter is formal argument\n",
    "# funtion call parameter is called actual argument\n",
    "\n",
    "def check_para(x,y):#    this is called formal arugments \n",
    "    a = x**y\n",
    "    return a\n",
    "\n",
    "check_para(2,9)      # this is called actual arguments "
   ]
  },
  {
   "cell_type": "markdown",
   "id": "48e5694d",
   "metadata": {},
   "source": [
    "##### 2. Write a Python program that defines a function with default argument values.\n"
   ]
  },
  {
   "cell_type": "code",
   "execution_count": 5,
   "id": "1166cf85",
   "metadata": {},
   "outputs": [
    {
     "data": {
      "text/plain": [
       "'aryan yadav'"
      ]
     },
     "execution_count": 5,
     "metadata": {},
     "output_type": "execute_result"
    }
   ],
   "source": [
    "def my_test(a = \"aryan\",b = \"yadav\"):\n",
    "    return a+' '+b\n",
    "my_test()"
   ]
  },
  {
   "cell_type": "markdown",
   "id": "38edcb7f",
   "metadata": {},
   "source": [
    "##### 3. How do you use keyword arguments in Python function calls? Provide an example.\n"
   ]
  },
  {
   "cell_type": "code",
   "execution_count": 10,
   "id": "362c4bab",
   "metadata": {},
   "outputs": [
    {
     "data": {
      "text/plain": [
       "11"
      ]
     },
     "execution_count": 10,
     "metadata": {},
     "output_type": "execute_result"
    }
   ],
   "source": [
    "def my_test(a,b,c):\n",
    "    return a+b+c\n",
    "my_test(a = 2,b = 4,c = 5)"
   ]
  },
  {
   "cell_type": "code",
   "execution_count": 26,
   "id": "98e4d732",
   "metadata": {},
   "outputs": [
    {
     "data": {
      "text/plain": [
       "(28, 834, 83)"
      ]
     },
     "execution_count": 26,
     "metadata": {},
     "output_type": "execute_result"
    }
   ],
   "source": [
    "def my_test3(*kwags):\n",
    "    return kwags\n",
    "my_test3(28, 834,83)"
   ]
  },
  {
   "cell_type": "markdown",
   "id": "ae13ae92",
   "metadata": {},
   "source": [
    "##### 4. Create a Python function that accepts a variable number of arguments and calculates their sum.\n"
   ]
  },
  {
   "cell_type": "code",
   "execution_count": 27,
   "id": "1513109e",
   "metadata": {},
   "outputs": [
    {
     "data": {
      "text/plain": [
       "679"
      ]
     },
     "execution_count": 27,
     "metadata": {},
     "output_type": "execute_result"
    }
   ],
   "source": [
    "def my_sum(*kwags):\n",
    "    add = sum(kwags)\n",
    "    return add\n",
    "my_sum(2,535,6,46,90)"
   ]
  },
  {
   "cell_type": "markdown",
   "id": "d02eaecd",
   "metadata": {},
   "source": [
    "##### 5. What is the purpose of the `*args` and `**kwargs` syntax in function parameter lists?"
   ]
  },
  {
   "cell_type": "code",
   "execution_count": 29,
   "id": "263a4e55",
   "metadata": {},
   "outputs": [
    {
     "data": {
      "text/plain": [
       "679"
      ]
     },
     "execution_count": 29,
     "metadata": {},
     "output_type": "execute_result"
    }
   ],
   "source": [
    "def my_sum(*kwags):\n",
    "    add = sum(kwags)\n",
    "    return add\n",
    "my_sum(2,535,6,46,90)"
   ]
  },
  {
   "cell_type": "code",
   "execution_count": 43,
   "id": "82cb8f7c",
   "metadata": {},
   "outputs": [
    {
     "name": "stdout",
     "output_type": "stream",
     "text": [
      "the keys arr  == a, and values== 3\n",
      "the keys arr  == b, and values== aryan\n"
     ]
    }
   ],
   "source": [
    "def my_test4(**kwargs):\n",
    "    for key,value in kwargs.items():\n",
    "        print(f\"the keys arr  == {key}, and values== {value}\")\n",
    "my_test4(a = 3,b = 'aryan')"
   ]
  },
  {
   "cell_type": "code",
   "execution_count": 41,
   "id": "be032c7e",
   "metadata": {},
   "outputs": [
    {
     "name": "stdout",
     "output_type": "stream",
     "text": [
      "name: Bob\n",
      "age: 25\n"
     ]
    }
   ],
   "source": [
    "def example_function(**kwargs):\n",
    "    for key, value in kwargs.items():\n",
    "        print(f\"{key}: {value}\")\n",
    "\n",
    "example_function(name=\"Bob\", age=25)\n"
   ]
  },
  {
   "cell_type": "markdown",
   "id": "c376f2de",
   "metadata": {},
   "source": [
    "## Return Values and Scoping"
   ]
  },
  {
   "cell_type": "markdown",
   "id": "2ab40fdc",
   "metadata": {},
   "source": [
    "##### 1. Describe the role of the `return` statement in Python functions and provide examples."
   ]
  },
  {
   "cell_type": "raw",
   "id": "ae04d462",
   "metadata": {},
   "source": [
    "return provide the exit of the data function from the function \n",
    "aand given the same type function not work as none \n",
    "but in case of print functtion exceutee none type"
   ]
  },
  {
   "cell_type": "code",
   "execution_count": 18,
   "id": "8d35f879",
   "metadata": {},
   "outputs": [
    {
     "name": "stdout",
     "output_type": "stream",
     "text": [
      "3\n",
      "3\n",
      "6\n"
     ]
    }
   ],
   "source": [
    "def my_func():\n",
    "    a = int(input())\n",
    "    b = int(input())\n",
    "    c = a+b\n",
    "    return c\n",
    "A = my_func()\n",
    "print(A)"
   ]
  },
  {
   "cell_type": "markdown",
   "id": "bf65e04c",
   "metadata": {},
   "source": [
    "##### 3. Write a Python program that demonstrates the use of global variables within functions."
   ]
  },
  {
   "cell_type": "code",
   "execution_count": 55,
   "id": "815524bf",
   "metadata": {},
   "outputs": [
    {
     "name": "stdout",
     "output_type": "stream",
     "text": [
      "this is my global vairable\n",
      "None\n"
     ]
    },
    {
     "data": {
      "text/plain": [
       "' this is update to global variable'"
      ]
     },
     "execution_count": 55,
     "metadata": {},
     "output_type": "execute_result"
    }
   ],
   "source": [
    "\n",
    "Global = \"this is my global vairable\"\n",
    "\n",
    "def check_fun(b):\n",
    "    return b \n",
    "\n",
    "def update(c):\n",
    "    global  Global    #       here i am declared that function is global\n",
    "    Global =\" this is update to global variable\" \n",
    "    \n",
    "print(check_fun(Global))\n",
    "print(update(Global))\n",
    "check_fun(Global)"
   ]
  },
  {
   "cell_type": "markdown",
   "id": "351db0d6",
   "metadata": {},
   "source": [
    "##### 4. Create a Python function that calculates the factorial of a number and returns it."
   ]
  },
  {
   "cell_type": "code",
   "execution_count": 38,
   "id": "cba0f612",
   "metadata": {},
   "outputs": [
    {
     "name": "stdout",
     "output_type": "stream",
     "text": [
      "\n",
      "1.enter the input : \n",
      "2.enter the input with non negative numbers \n",
      "6\n"
     ]
    },
    {
     "data": {
      "text/plain": [
       "720"
      ]
     },
     "execution_count": 38,
     "metadata": {},
     "output_type": "execute_result"
    }
   ],
   "source": [
    "def cal_fact(n):\n",
    "    my_fac = 1\n",
    "    if n ==(0 or 1 ):\n",
    "        return 1\n",
    "    else:\n",
    "        for i in range(2,n+1):\n",
    "            my_fac = my_fac*i\n",
    "        return my_fac\n",
    "cal_fact(int(input('''\n",
    "1.enter the input : \n",
    "2.enter the input with non negative numbers \n",
    "''')))\n",
    "            "
   ]
  },
  {
   "cell_type": "code",
   "execution_count": 40,
   "id": "8ecb5a4f",
   "metadata": {},
   "outputs": [
    {
     "data": {
      "text/plain": [
       "'vaiable define function is inside the function '"
      ]
     },
     "execution_count": 40,
     "metadata": {},
     "output_type": "execute_result"
    }
   ],
   "source": [
    "a = \"vaiable define function is inside the function \"\n",
    "def in_fun(f):\n",
    "    return f\n",
    "in_fun(a)"
   ]
  },
  {
   "cell_type": "markdown",
   "id": "520723f5",
   "metadata": {},
   "source": [
    "# Lambda function of higher order function"
   ]
  },
  {
   "cell_type": "markdown",
   "id": "8c163219",
   "metadata": {},
   "source": [
    "##### 1. What are lambda functions in Python, and when are they typically used?"
   ]
  },
  {
   "cell_type": "raw",
   "id": "95c780ba",
   "metadata": {},
   "source": [
    "lambbda is a  anomoulous funtion use in palce of function to make the code effective and \n",
    "readibilit and modulation empashise\n",
    "they don't have formalfunction \n",
    "one line code function\n"
   ]
  },
  {
   "cell_type": "markdown",
   "id": "14a68ad6",
   "metadata": {},
   "source": [
    "##### 2. Write a Python program that uses lambda functions to sort a list of tuples based on the second\n",
    "element."
   ]
  },
  {
   "cell_type": "code",
   "execution_count": 69,
   "id": "46bc0a2d",
   "metadata": {},
   "outputs": [
    {
     "ename": "TypeError",
     "evalue": "'int' object is not iterable",
     "output_type": "error",
     "traceback": [
      "\u001b[1;31m---------------------------------------------------------------------------\u001b[0m",
      "\u001b[1;31mTypeError\u001b[0m                                 Traceback (most recent call last)",
      "Cell \u001b[1;32mIn[69], line 2\u001b[0m\n\u001b[0;32m      1\u001b[0m my_tup \u001b[38;5;241m=\u001b[39m (\u001b[38;5;241m3\u001b[39m,\u001b[38;5;241m56\u001b[39m,\u001b[38;5;241m9\u001b[39m,\u001b[38;5;241m57\u001b[39m,\u001b[38;5;241m47\u001b[39m,\u001b[38;5;241m47\u001b[39m,\u001b[38;5;241m3\u001b[39m)\n\u001b[1;32m----> 2\u001b[0m a \u001b[38;5;241m=\u001b[39m \u001b[38;5;28mtuple\u001b[39m(\u001b[38;5;28mmap\u001b[39m(\u001b[38;5;28;01mlambda\u001b[39;00m x : \u001b[38;5;28msorted\u001b[39m(x),\u001b[38;5;28mlist\u001b[39m(my_tup)))\n\u001b[0;32m      3\u001b[0m \u001b[38;5;28mprint\u001b[39m(a)\n",
      "Cell \u001b[1;32mIn[69], line 2\u001b[0m, in \u001b[0;36m<lambda>\u001b[1;34m(x)\u001b[0m\n\u001b[0;32m      1\u001b[0m my_tup \u001b[38;5;241m=\u001b[39m (\u001b[38;5;241m3\u001b[39m,\u001b[38;5;241m56\u001b[39m,\u001b[38;5;241m9\u001b[39m,\u001b[38;5;241m57\u001b[39m,\u001b[38;5;241m47\u001b[39m,\u001b[38;5;241m47\u001b[39m,\u001b[38;5;241m3\u001b[39m)\n\u001b[1;32m----> 2\u001b[0m a \u001b[38;5;241m=\u001b[39m \u001b[38;5;28mtuple\u001b[39m(\u001b[38;5;28mmap\u001b[39m(\u001b[38;5;28;01mlambda\u001b[39;00m x : \u001b[38;5;28msorted\u001b[39m(x),\u001b[38;5;28mlist\u001b[39m(my_tup)))\n\u001b[0;32m      3\u001b[0m \u001b[38;5;28mprint\u001b[39m(a)\n",
      "\u001b[1;31mTypeError\u001b[0m: 'int' object is not iterable"
     ]
    }
   ],
   "source": [
    "my_tup = (3,56,9,57,47,47,3)\n",
    "a = tuple(map(lambda x : sorted(x),list(my_tup)\n",
    "print(a)"
   ]
  },
  {
   "cell_type": "code",
   "execution_count": 80,
   "id": "569ead72",
   "metadata": {},
   "outputs": [
    {
     "name": "stdout",
     "output_type": "stream",
     "text": [
      "[3, 3, 9, 47, 47, 56, 57]\n"
     ]
    }
   ],
   "source": [
    "my_tup = (3,56,9,57,47,47,3)\n",
    "\n",
    "sorted_list = sorted(my_tup, key=lambda x: x)\n",
    "print(sorted_list)  # Output: [57, 56, 47, 47, 9, 3, 3]\n"
   ]
  },
  {
   "cell_type": "markdown",
   "id": "40a2dea3",
   "metadata": {},
   "source": [
    "##### 3. Explain the concept of higher-order functions in Python, and provide an example"
   ]
  },
  {
   "cell_type": "markdown",
   "id": "50e0f0e3",
   "metadata": {},
   "source": [
    "higher order function take more than two argument it make the function more flexible and adaptable "
   ]
  },
  {
   "cell_type": "code",
   "execution_count": 108,
   "id": "30065654",
   "metadata": {},
   "outputs": [
    {
     "name": "stdout",
     "output_type": "stream",
     "text": [
      "31\n",
      "36\n",
      "9\n",
      "9\n"
     ]
    }
   ],
   "source": [
    "def my_operator(func, x, y):\n",
    "    return func(x,y)\n",
    "\n",
    "def multiply(a,b):\n",
    "    return a*b\n",
    "\n",
    "def divide(a,b):\n",
    "    return a//b\n",
    "\n",
    "def add(a,b):\n",
    "    return a+b\n",
    "\n",
    "def subtract(a,b):\n",
    "    if a<b:\n",
    "        return b-a\n",
    "    else:\n",
    "        return a-b\n",
    "calling = my_operator(add, 28, 3)\n",
    "call_2 = my_operator(subtract,45,9)\n",
    "call_3 = my_operator(multiply,3,3)\n",
    "call_4 = my_operator(divide,45,5)\n",
    "print(calling)\n",
    "print(call_2)\n",
    "print(call_3)\n",
    "print(call_4)"
   ]
  },
  {
   "cell_type": "markdown",
   "id": "7a1a12fa",
   "metadata": {},
   "source": [
    "##### V4. Create a Python function that takes a list of numbers and a function as arguments, applying the\n",
    "function to each element in the list."
   ]
  },
  {
   "cell_type": "code",
   "execution_count": 109,
   "id": "6e25c4c2",
   "metadata": {},
   "outputs": [
    {
     "name": "stdout",
     "output_type": "stream",
     "text": [
      "Original List: [1, 2, 3, 4, 5]\n",
      "Result after applying square function: [1, 4, 9, 16, 25]\n"
     ]
    }
   ],
   "source": [
    "def apply_function_to_list(numbers, custom_function):\n",
    "    \"\"\"\n",
    "    Apply the given function to each element in the list.\n",
    "\n",
    "    Parameters:\n",
    "    - numbers (list): List of numbers\n",
    "    - custom_function (function): The function to apply to each element\n",
    "\n",
    "    Returns:\n",
    "    - list: List of results after applying the function to each element\n",
    "    \"\"\"\n",
    "    result = [custom_function(num) for num in numbers]\n",
    "    return result\n",
    "\n",
    "# Example usage:\n",
    "\n",
    "# Define a custom function (e.g., squaring each element)\n",
    "def square(x):\n",
    "    return x ** 2\n",
    "\n",
    "# List of numbers\n",
    "numbers_list = [1, 2, 3, 4, 5]\n",
    "\n",
    "# Apply the square function to each element in the list\n",
    "result_squared = apply_function_to_list(numbers_list, square)\n",
    "\n",
    "print(\"Original List:\", numbers_list)\n",
    "print(\"Result after applying square function:\", result_squared)\n"
   ]
  },
  {
   "cell_type": "code",
   "execution_count": 114,
   "id": "e7821d9f",
   "metadata": {},
   "outputs": [
    {
     "name": "stdout",
     "output_type": "stream",
     "text": [
      "my output is [12, 3, 37, 37, 2, 4884, 2, 2, 21228, 3, 221, 1, 3284, 458, 1, 45]\n"
     ]
    }
   ],
   "source": [
    "\n",
    "my_list = [25,6,74,74,5,9769,5,4,42456,7,443,3,6568,917,3,90]\n",
    "def to_half_the_list(my_argument,show_func):\n",
    "    my_output = [show_func(i) for i in my_argument]\n",
    "    return my_output\n",
    "    \n",
    "def half_element(x):\n",
    "    return x//2\n",
    "\n",
    "calling = to_half_the_list(my_list,half_element)\n",
    "\n",
    "print(calling)\n"
   ]
  },
  {
   "cell_type": "markdown",
   "id": "f0350faa",
   "metadata": {},
   "source": [
    "# built in function"
   ]
  },
  {
   "cell_type": "markdown",
   "id": "f8cfa291",
   "metadata": {},
   "source": [
    "##### 1. Describe the role of built-in functions like `len()`, `max()`, and `min()` in Python.\n"
   ]
  },
  {
   "cell_type": "raw",
   "id": "3de31692",
   "metadata": {},
   "source": [
    "len() # this will give the length of the list ,tuple set,dict\n",
    "max() # this return the max value of the number\n",
    "min() # this will return the min value of the number "
   ]
  },
  {
   "cell_type": "markdown",
   "id": "77eb5bb2",
   "metadata": {},
   "source": [
    "##### 2. Write a Python program that uses the `map()` function to apply a function to each element of a\n",
    "list.\n"
   ]
  },
  {
   "cell_type": "code",
   "execution_count": 115,
   "id": "62dd5429",
   "metadata": {},
   "outputs": [
    {
     "data": {
      "text/plain": [
       "[27, 46656, 343, 50653, 216, 6859, 1, 343, 42875, 12167, 125, 1]"
      ]
     },
     "execution_count": 115,
     "metadata": {},
     "output_type": "execute_result"
    }
   ],
   "source": [
    "my_list = [3,36,7,37,6,19,1,7,35,23,5,1]\n",
    "list(map(lambda x:x**3,my_list))"
   ]
  },
  {
   "cell_type": "markdown",
   "id": "c18efd20",
   "metadata": {},
   "source": [
    "##### 3. How does the `filter()` function work in Python, and when would you use it?"
   ]
  },
  {
   "cell_type": "code",
   "execution_count": 1,
   "id": "97471a69",
   "metadata": {},
   "outputs": [
    {
     "data": {
      "text/plain": [
       "[36, 314, 6, 350, 232]"
      ]
     },
     "execution_count": 1,
     "metadata": {},
     "output_type": "execute_result"
    }
   ],
   "source": [
    "my_list = [3,36,7,314,6,19,1,7,350,232,5,1]\n",
    "# filter out the even number\n",
    "list(filter(lambda x:x%2 == 0,my_list))"
   ]
  },
  {
   "cell_type": "markdown",
   "id": "1802bcf3",
   "metadata": {},
   "source": [
    "##### 4. Create a Python program that uses the `reduce()` function to find the product of all elements in\n",
    "a list.\n"
   ]
  },
  {
   "cell_type": "code",
   "execution_count": 3,
   "id": "a555f98d",
   "metadata": {},
   "outputs": [
    {
     "data": {
      "text/plain": [
       "76909567392000"
      ]
     },
     "execution_count": 3,
     "metadata": {},
     "output_type": "execute_result"
    }
   ],
   "source": [
    "# multiple all the elements of the list\n",
    "my_list = [3,36,7,314,6,19,1,7,350,232,5,1]\n",
    "from functools import reduce as aryan_yadav_4149\n",
    "aryan_yadav_4149(lambda x,y:x*y,my_list) \n"
   ]
  },
  {
   "cell_type": "markdown",
   "id": "7492dac9",
   "metadata": {},
   "source": [
    "# documentation"
   ]
  },
  {
   "cell_type": "markdown",
   "id": "426dd362",
   "metadata": {},
   "source": [
    "##### Explain the purpose of docstrings in Python functions and how to write them"
   ]
  },
  {
   "cell_type": "code",
   "execution_count": 20,
   "id": "17ddacb9",
   "metadata": {},
   "outputs": [
    {
     "name": "stdout",
     "output_type": "stream",
     "text": [
      "heelo\n",
      "    aran\n",
      "    yasdav ;sg\n",
      "    aryan yadav\n"
     ]
    }
   ],
   "source": [
    "def my_doc(call):\n",
    "    my_ans = call()\n",
    "    return my_ans\n",
    "    \n",
    "def doc():\n",
    "    a  = '''heelo\n",
    "    aran\n",
    "    yasdav ;sg\n",
    "    aryan yadav'''\n",
    "    return a\n",
    "\n",
    "run = my_doc(doc)\n",
    "print(run)"
   ]
  },
  {
   "cell_type": "code",
   "execution_count": null,
   "id": "1379c00e",
   "metadata": {},
   "outputs": [],
   "source": []
  },
  {
   "cell_type": "code",
   "execution_count": null,
   "id": "d8fe1091",
   "metadata": {},
   "outputs": [],
   "source": [
    " "
   ]
  },
  {
   "cell_type": "code",
   "execution_count": null,
   "id": "15674235",
   "metadata": {},
   "outputs": [],
   "source": []
  },
  {
   "cell_type": "code",
   "execution_count": null,
   "id": "5755fda5",
   "metadata": {},
   "outputs": [],
   "source": []
  }
 ],
 "metadata": {
  "kernelspec": {
   "display_name": "Python 3 (ipykernel)",
   "language": "python",
   "name": "python3"
  },
  "language_info": {
   "codemirror_mode": {
    "name": "ipython",
    "version": 3
   },
   "file_extension": ".py",
   "mimetype": "text/x-python",
   "name": "python",
   "nbconvert_exporter": "python",
   "pygments_lexer": "ipython3",
   "version": "3.11.5"
  }
 },
 "nbformat": 4,
 "nbformat_minor": 5
}
